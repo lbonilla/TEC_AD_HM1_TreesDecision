{
 "cells": [
  {
   "cell_type": "code",
   "execution_count": 11,
   "metadata": {},
   "outputs": [],
   "source": [
    "import torch\n",
    "import pandas\n",
    "import numpy as np"
   ]
  },
  {
   "cell_type": "code",
   "execution_count": 12,
   "metadata": {},
   "outputs": [],
   "source": [
    "import pandas\n",
    "#dataset taken from https://www.kaggle.com/yashsawarn/wifi-stretgth-for-rooms\n",
    "\n",
    "def read_dataset(csv_name = 'wifi_localization.txt'):\n",
    "    \"\"\"\n",
    "    Reads a csv dataset \n",
    "    returns it as a pytorch tensor\n",
    "    \"\"\"\n",
    "    data_frame = pandas.read_table(csv_name, delim_whitespace=True, names=('A', 'B', 'C', 'D','E', 'F', 'G', 'ROOM'),\n",
    "                       dtype={'A': np.int64, 'B': np.float64, 'C': np.float64, 'D': np.float64,'E': np.float64,'F': np.float64,'G': np.float64,'ROOM': np.float64})\n",
    "\n",
    "    targets_torch = torch.tensor(data_frame['ROOM'].values)\n",
    "    dataset_torch = torch.tensor(data_frame.values)\n",
    "    \n",
    "    return dataset_torch\n",
    "dataset_torch = read_dataset()\n",
    "\n"
   ]
  },
  {
   "cell_type": "code",
   "execution_count": 13,
   "metadata": {},
   "outputs": [
    {
     "name": "stdout",
     "output_type": "stream",
     "text": [
      "tensor([[-64., -56., -61.,  ..., -82., -81.,   1.],\n",
      "        [-68., -57., -61.,  ..., -85., -85.,   1.],\n",
      "        [-63., -60., -60.,  ..., -85., -84.,   1.],\n",
      "        ...,\n",
      "        [-62., -59., -46.,  ..., -87., -88.,   4.],\n",
      "        [-62., -58., -52.,  ..., -90., -85.,   4.],\n",
      "        [-59., -50., -45.,  ..., -88., -87.,   4.]], dtype=torch.float64)\n"
     ]
    }
   ],
   "source": [
    "print(dataset_torch)"
   ]
  },
  {
   "cell_type": "code",
   "execution_count": null,
   "metadata": {},
   "outputs": [],
   "source": [
    "class Node_CART:    \n",
    "    def __init__(self, num_classes = 4, ref_CART = None, current_depth = 0):\n",
    "        \"\"\"\n",
    "        Create the node attributes\n",
    "        param num_classes: K number of classes to classify\n",
    "        param ref_cart: reference to the tree containing the node\n",
    "        param current_depth: current depth of the node in the tree\n",
    "        \"\"\"\n",
    "        self.ref_CART = ref_CART\n",
    "        self.threshold_value = 0\n",
    "        self.feature_num = 0\n",
    "        self.node_right = None\n",
    "        self.node_left = None\n",
    "        self.data_torch_partition = None\n",
    "        self.gini = 0\n",
    "        self.dominant_class = None\n",
    "        self.accuracy_dominant_class = None        \n",
    "        self.num_classes = num_classes\n",
    "        self.current_depth = current_depth\n",
    "    \n",
    "    def to_xml(self, current_str = \"\"):\n",
    "        \"\"\"\n",
    "        Recursive function to write the node content to an xml formatted string\n",
    "        param current_str : the xml content so far in the whole tree\n",
    "        return the string with the node content\n",
    "        \"\"\"\n",
    "        str_node = \"<node><thresh>\" + str(self.threshold_value) + \"</thresh>\" + \"<feature>\" + str(self.feature_num) + \"</feature><depth>\" + str(self.current_depth)+ \"</depth>\" \n",
    "        str_node += \"<gini>\" + str(self.gini) + \"</gini>\"\n",
    "        if(self.node_right != None):\n",
    "            str_left = self.node_right.to_xml(current_str)\n",
    "            str_node += str_left\n",
    "        if(self.node_left != None):\n",
    "            str_right = self.node_left.to_xml(current_str)\n",
    "            str_node += str_right\n",
    "            \n",
    "        if(self.is_leaf()):\n",
    "            str_node += \"<dominant_class>\" + str(self.dominant_class) + \"</dominant_class><acc_dominant_class>\"  + str(self.accuracy_dominant_class) + \"</acc_dominant_class>\"\n",
    "        str_node += \"</node>\"\n",
    "        return str_node\n",
    "    \n",
    "    def is_leaf(self):\n",
    "        \"\"\"\n",
    "        Checks whether the node is a leaf\n",
    "        \"\"\"\n",
    "        return (self.node_left == None and self.node_right == None)\n",
    "    \n",
    "    def create_with_children(self, data_torch, current_depth, min_gini = 0.000001):\n",
    "        \"\"\"\n",
    "        Creates a node by selecting the best feature and threshold, and if needed, creating its children\n",
    "        param data_torch: dataset with the current partition to deal with in the node\n",
    "        param current_depth: depth counter for the node\n",
    "        param min_gini: hyperparmeter selected by the user defining the minimum tolerated gini coefficient for a  node\n",
    "        return the list of selected features so far\n",
    "        \"\"\"        \n",
    "                \n",
    "            \n",
    "        return list_selected_features\n",
    "    \n",
    "    \n",
    "    def select_best_feature_and_thresh(self, data_torch,  num_classes = 4):\n",
    "        \"\"\"\n",
    "        Selects the best feature and threshold that minimizes the gini coefficient\n",
    "        param data_torch: dataset partition to analyze\n",
    "        param num_classes: number of K classes to discriminate from \n",
    "        return min_thresh, min_feature, min_gini found for the dataset partition when \n",
    "        selecting the found feature and threshold\n",
    "        \"\"\"       \n",
    "        \n",
    "        #TODO\n",
    "        #return selected cut       \n",
    "        return (min_thresh, min_feature, min_gini)   \n",
    "        \n",
    "    \n",
    "    def calculate_gini(self, data_partition_torch, num_classes = 4):\n",
    "        \"\"\"\n",
    "        Calculates the gini coefficient for a given partition with the given number of classes\n",
    "        param data_partition_torch: current dataset partition as a tensor\n",
    "        param num_classes: K number of classes to discriminate from\n",
    "        returns the calculated gini coefficient\n",
    "        \"\"\"\n",
    "        def gini_for_subset(subset):\n",
    "            if subset.shape[0] == 0:\n",
    "                return 0.0\n",
    "            gini = 1.0\n",
    "            total = subset.shape[0]\n",
    "            for cls in range(num_classes):\n",
    "                count = torch.sum(subset[:, -1] == cls).item()\n",
    "                prob = count / total\n",
    "                gini -= prob ** 2\n",
    "            return gini\n",
    "        gini = gini_for_subset(data_partition_torch)\n",
    "        return gini\n",
    "    \n",
    "    \n",
    "    \n",
    "    def evaluate_node(self, input_torch): \n",
    "        \"\"\"\n",
    "        Evaluates an input observation within the node. \n",
    "        If is not a leaf node, send it to the corresponding node\n",
    "        return predicted label\n",
    "        \"\"\"\n",
    "        feature_val_input = input_torch[self.feature_num]\n",
    "        if(self.is_leaf()):\n",
    "            return self.dominant_class\n",
    "        else:\n",
    "            if(feature_val_input < self.threshold_value):\n",
    "                return self.node_left.evaluate_node(input_torch)\n",
    "            else:\n",
    "                return self.node_right.evaluate_node(input_torch)"
   ]
  },
  {
   "cell_type": "code",
   "execution_count": 15,
   "metadata": {},
   "outputs": [
    {
     "name": "stdout",
     "output_type": "stream",
     "text": [
      "dataset_example \n",
      " tensor([[ 3.0000, 22.0000,  7.2000,  0.0000],\n",
      "        [ 1.0000, 38.0000, 71.3000,  0.0000],\n",
      "        [ 3.0000, 26.0000,  7.9000,  1.0000],\n",
      "        [ 1.0000, 35.0000, 53.1000,  0.0000]])\n"
     ]
    }
   ],
   "source": [
    "dataset_example = torch.tensor([[3, 22.0, 7.2, 0], [1, 38, 71.3, 0], [3, 26, 7.9, 1], [1, 35, 53.1, 0]])\n",
    "print(\"dataset_example \\n\", dataset_example)\n"
   ]
  },
  {
   "cell_type": "code",
   "execution_count": 16,
   "metadata": {},
   "outputs": [
    {
     "name": "stdout",
     "output_type": "stream",
     "text": [
      "root node \n",
      "  tensor([[ 3.0000, 22.0000,  7.2000,  0.0000],\n",
      "        [ 1.0000, 38.0000, 71.3000,  0.0000],\n",
      "        [ 3.0000, 26.0000,  7.9000,  1.0000],\n",
      "        [ 1.0000, 35.0000, 53.1000,  0.0000]])\n",
      "xml_root_node \n",
      " <node><thresh>0</thresh><feature>0</feature><depth>0</depth><gini>0</gini><dominant_class>None</dominant_class><acc_dominant_class>None</acc_dominant_class></node>\n"
     ]
    }
   ],
   "source": [
    "root_node = Node_CART()\n",
    "root_node.data_torch_partition = dataset_example\n",
    "\n",
    "print(\"root node \\n \", root_node.data_torch_partition)\n",
    "xml_root_node = root_node.to_xml()\n",
    "\n",
    "print(\"xml_root_node \\n\", xml_root_node)"
   ]
  },
  {
   "cell_type": "code",
   "execution_count": 36,
   "metadata": {},
   "outputs": [
    {
     "name": "stdout",
     "output_type": "stream",
     "text": [
      "dataset_partition_left \n",
      " tensor([[ 1.0000, 38.0000, 71.3000,  0.0000],\n",
      "        [ 1.0000, 35.0000, 53.1000,  0.0000]])\n",
      "dataset_partition_right \n",
      " tensor([[ 3.0000, 22.0000,  7.2000,  0.0000],\n",
      "        [ 3.0000, 26.0000,  7.9000,  1.0000]])\n"
     ]
    }
   ],
   "source": [
    "root_node.threshold_value = 3\n",
    "root_node.feature_num = 0\n",
    "\n",
    "#indices of left and right partitions\n",
    "left_idxs = dataset_example[:, root_node.feature_num] < root_node.threshold_value\n",
    "right_idxs = dataset_example[:, root_node.feature_num] >= root_node.threshold_value\n",
    "#data partitions\n",
    "dataset_partition_left = dataset_example[left_idxs]\n",
    "dataset_partition_right = dataset_example[right_idxs]\n",
    "\n",
    "print(\"dataset_partition_left \\n\", dataset_partition_left)\n",
    "print(\"dataset_partition_right \\n\", dataset_partition_right)\n",
    "#create left child\n",
    "left_child = Node_CART(current_depth = 1)\n",
    "left_child.data_torch_partition = dataset_partition_left\n",
    "root_node.node_left = left_child\n",
    "#create right child\n",
    "right_child = Node_CART(current_depth = 1)\n",
    "right_child.data_torch_partition = dataset_partition_right\n",
    "root_node.node_right = right_child\n",
    "#write xml example\n",
    "root_node.ref_CART = root_node\n",
    "xml_string = root_node.to_xml()\n",
    "\n",
    "#print(xml_string)\n",
    "file = open(\"example1.xml\", \"a\")\n",
    "file.write(xml_string)\n",
    "file.close()\n"
   ]
  },
  {
   "cell_type": "code",
   "execution_count": 18,
   "metadata": {},
   "outputs": [
    {
     "name": "stdout",
     "output_type": "stream",
     "text": [
      "<node><thresh>3</thresh><feature>0</feature><depth>0</depth><gini>0</gini><node><thresh>0</thresh><feature>0</feature><depth>1</depth><gini>0</gini><dominant_class>None</dominant_class><acc_dominant_class>None</acc_dominant_class></node><node><thresh>0</thresh><feature>0</feature><depth>1</depth><gini>0</gini><dominant_class>None</dominant_class><acc_dominant_class>None</acc_dominant_class></node></node>\n"
     ]
    }
   ],
   "source": [
    "print(xml_string)"
   ]
  },
  {
   "cell_type": "code",
   "execution_count": 35,
   "metadata": {},
   "outputs": [
    {
     "name": "stdout",
     "output_type": "stream",
     "text": [
      "gini_left:  0.4444444444444444 gini_right:  0.0 gini_total:  0.3333333333333333\n",
      "gini_total  0.3333333333333333\n"
     ]
    }
   ],
   "source": [
    "def calculate_gini(node_left, node_right):\n",
    "  size_left = node_left.data_torch_partition.shape[0]\n",
    "  size_right = node_right.data_torch_partition.shape[0]\n",
    "  size_total = size_left + size_right\n",
    "  gini_left = 1 - (((node_left.data_torch_partition[:, 3] == 0).sum().item() / size_left)**2 + ((node_left.data_torch_partition[:, 3] == 1).sum().item()/size_left)**2)\n",
    "  gini_right = 1 - (((node_right.data_torch_partition[:, 3] == 0).sum().item() / size_right)**2 + ((node_right.data_torch_partition[:, 3] == 1).sum().item()/size_right)**2)\n",
    "  gini_total = (size_left / size_total * gini_left) + (size_right / size_total * gini_right)\n",
    "  print(\"gini_left: \", gini_left, \"gini_right: \", gini_right, \"gini_total: \", gini_total)\n",
    "  return gini_total\n",
    "gini_total = calculate_gini(left_child, right_child)\n",
    "print(\"gini_total \", gini_total)"
   ]
  },
  {
   "cell_type": "code",
   "execution_count": null,
   "metadata": {},
   "outputs": [],
   "source": []
  },
  {
   "cell_type": "code",
   "execution_count": null,
   "metadata": {},
   "outputs": [],
   "source": [
    "# Prueba unitaria 1: Gini para un solo grupo homogéneo (impureza debe ser 0)\n",
    "def test_gini_homogeneous():\n",
    "    node = Node_CART(num_classes=2)\n",
    "    # Todos los elementos son de la clase 0\n",
    "    data = torch.tensor([[1, 2, 0], [2, 3, 0], [3, 4, 0]], dtype=torch.float32)\n",
    "    gini = node.calculate_gini(data, num_classes=2)\n",
    "    print('Test 1 - Gini homogéneo:', gini)\n",
    "    assert abs(gini - 0.0) < 1e-6, f\"Esperado 0.0, obtenido {gini}\"\n",
    "\n",
    "# Prueba unitaria 2: Gini para dos clases balanceadas (impureza máxima)\n",
    "def test_gini_balanced():\n",
    "    node = Node_CART(num_classes=2)\n",
    "    # Mitad clase 0, mitad clase 1\n",
    "    data = torch.tensor([[1, 2, 0], [2, 3, 1], [3, 4, 0], [4, 5, 1]], dtype=torch.float32)\n",
    "    gini = node.calculate_gini(data, num_classes=2)\n",
    "    print('Test 2 - Gini balanceado:', gini)\n",
    "    assert abs(gini - 0.5) < 1e-6, f\"Esperado 0.5, obtenido {gini}\"\n",
    "\n",
    "# Ejecutar pruebas\n",
    "if __name__ == \"__main__\":\n",
    "    test_gini_homogeneous()\n",
    "    test_gini_balanced()"
   ]
  }
 ],
 "metadata": {
  "kernelspec": {
   "display_name": "Python [conda env:base] *",
   "language": "python",
   "name": "conda-base-py"
  },
  "language_info": {
   "codemirror_mode": {
    "name": "ipython",
    "version": 3
   },
   "file_extension": ".py",
   "mimetype": "text/x-python",
   "name": "python",
   "nbconvert_exporter": "python",
   "pygments_lexer": "ipython3",
   "version": "3.13.5"
  }
 },
 "nbformat": 4,
 "nbformat_minor": 4
}
